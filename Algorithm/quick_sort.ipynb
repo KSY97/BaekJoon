{
  "nbformat": 4,
  "nbformat_minor": 0,
  "metadata": {
    "colab": {
      "provenance": [],
      "collapsed_sections": []
    },
    "kernelspec": {
      "name": "python3",
      "display_name": "Python 3"
    },
    "language_info": {
      "name": "python"
    }
  },
  "cells": [
    {
      "cell_type": "code",
      "source": [
        "a = [5, 7, 2, 1, 5]\n",
        "b = [3, 8, 9, 4, 7]\n",
        "\n",
        "k = 2"
      ],
      "metadata": {
        "id": "00ndjqrgZjl_"
      },
      "execution_count": 35,
      "outputs": []
    },
    {
      "cell_type": "code",
      "execution_count": 36,
      "metadata": {
        "id": "4E-hOFJDN5FL"
      },
      "outputs": [],
      "source": [
        "def quick_sort(arr, start, end):\n",
        "  if start >= end: return\n",
        "  p = start\n",
        "  l = start+1\n",
        "  r = end\n",
        "  \n",
        "  while l<=r:\n",
        "    \n",
        "    while l<=end and arr[l]<=arr[p]:\n",
        "      l += 1\n",
        "    \n",
        "    while r > start and arr[r] >= arr[p]:\n",
        "      r -= 1\n",
        "        \n",
        "    if l > r:\n",
        "      arr[r], arr[p] = arr[p], arr[r]\n",
        "    else:\n",
        "      arr[r], arr[l] = arr[l], arr[r]\n",
        "        \n",
        "  quick_sort(arr, start, r-1)\n",
        "  quick_sort(arr, r+1, end)"
      ]
    },
    {
      "cell_type": "code",
      "source": [
        "quick_sort(a, 0, len(a)-1)\n",
        "print(a)\n",
        "quick_sort(b, 0, len(b)-1)\n",
        "print(b)"
      ],
      "metadata": {
        "colab": {
          "base_uri": "https://localhost:8080/"
        },
        "id": "IUg1gJbbRvX8",
        "outputId": "97fe0fdf-52a4-4bd6-ac9f-03bbaa503494"
      },
      "execution_count": 37,
      "outputs": [
        {
          "output_type": "stream",
          "name": "stdout",
          "text": [
            "[1, 2, 5, 5, 7]\n",
            "[3, 4, 7, 8, 9]\n"
          ]
        }
      ]
    },
    {
      "cell_type": "code",
      "source": [
        "for i in range(k):\n",
        "  if a[i] < b[len(b)-1-i]:\n",
        "    a[i],  b[len(b)-1-i] =  b[len(b)-1-i], a[i]"
      ],
      "metadata": {
        "id": "Bo49xOhZTjjd"
      },
      "execution_count": 38,
      "outputs": []
    },
    {
      "cell_type": "code",
      "source": [
        "print(a)\n",
        "print(b)"
      ],
      "metadata": {
        "colab": {
          "base_uri": "https://localhost:8080/"
        },
        "id": "BrC5KHDMasip",
        "outputId": "b6461a6a-ebdc-45f4-9499-0c66249f846a"
      },
      "execution_count": 39,
      "outputs": [
        {
          "output_type": "stream",
          "name": "stdout",
          "text": [
            "[9, 8, 5, 5, 7]\n",
            "[3, 4, 7, 2, 1]\n"
          ]
        }
      ]
    },
    {
      "cell_type": "code",
      "source": [],
      "metadata": {
        "id": "N-v_B6SdbEi4"
      },
      "execution_count": null,
      "outputs": []
    }
  ]
}