{
 "cells": [
  {
   "cell_type": "code",
   "execution_count": 1,
   "id": "c3aca2c6",
   "metadata": {},
   "outputs": [],
   "source": [
    "# 이진 탐색 소스코드 구현 (재귀 함수)\n",
    "def binary_search(array, target, start, end):\n",
    "    if start > end:\n",
    "        return None\n",
    "    mid = (start + end) // 2\n",
    "    # 찾은 경우 중간점 인덱스 반환\n",
    "    if array[mid] == target:\n",
    "        return mid\n",
    "    # 중간점의 값보다 찾고자 하는 값이 작은 경우 왼쪽 확인\n",
    "    elif array[mid] > target:\n",
    "        return binary_search(array, target, start, mid-1)\n",
    "    # 중간점의 값보다 찾고자 하는 값이 큰경우 오른쪽 확인\n",
    "    else:\n",
    "        return binary_search(array, target, mid + 1, end)"
   ]
  },
  {
   "cell_type": "code",
   "execution_count": 3,
   "id": "53845c0f",
   "metadata": {},
   "outputs": [
    {
     "name": "stdout",
     "output_type": "stream",
     "text": [
      "10 7\n",
      "1 3 5 7 9 11 13 15 17 19\n",
      "4 번째\n"
     ]
    }
   ],
   "source": [
    "# n(원소의 개수)과 target(찾고자 하는 값)을 입력 받기\n",
    "n, target = list(map(int, input().split()))\n",
    "# 전체 원소 입력 받기\n",
    "array = list(map(int, input().split()))\n",
    "\n",
    "# 이진 탐색 수행 결과 출력\n",
    "result = binary_search(array, target, 0, n-1)\n",
    "if result == None:\n",
    "    print('원소가 존재하지 않습니다')\n",
    "else:\n",
    "    print(result+1, '번째')"
   ]
  },
  {
   "cell_type": "code",
   "execution_count": 4,
   "id": "d6ccf077",
   "metadata": {},
   "outputs": [],
   "source": [
    "from bisect import bisect_left, bisect_right\n",
    "\n",
    "# 값이 [left_val, right_val]인 데이터의 개수를 반환하는 함수\n",
    "def count_by_range(a, left_val, right_val):\n",
    "    right_idx = bisect_right(a, right_val)\n",
    "    left_idx = bisect_left(a, left_val)\n",
    "    return right_idx - left_idx"
   ]
  },
  {
   "cell_type": "code",
   "execution_count": 5,
   "id": "06fa0710",
   "metadata": {},
   "outputs": [
    {
     "name": "stdout",
     "output_type": "stream",
     "text": [
      "2\n",
      "6\n"
     ]
    }
   ],
   "source": [
    "# 배열 선언\n",
    "a = [1, 2, 3, 3, 3, 3, 4, 4, 8, 9]\n",
    "\n",
    "# 값이 4인 데이터 개수 출력\n",
    "print(count_by_range(a, 4, 4))\n",
    "\n",
    "# 값이 [-1, 3]범위 내에 있는 데이터 개수 출력\n",
    "print(count_by_range(a, -1, 3))"
   ]
  }
 ],
 "metadata": {
  "kernelspec": {
   "display_name": "Python 3 (ipykernel)",
   "language": "python",
   "name": "python3"
  },
  "language_info": {
   "codemirror_mode": {
    "name": "ipython",
    "version": 3
   },
   "file_extension": ".py",
   "mimetype": "text/x-python",
   "name": "python",
   "nbconvert_exporter": "python",
   "pygments_lexer": "ipython3",
   "version": "3.9.12"
  }
 },
 "nbformat": 4,
 "nbformat_minor": 5
}
